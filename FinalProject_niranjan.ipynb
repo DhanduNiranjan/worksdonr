{
 "cells": [
  {
   "cell_type": "markdown",
   "id": "a2573994",
   "metadata": {},
   "source": [
    "# Notebook"
   ]
  },
  {
   "cell_type": "markdown",
   "id": "8865194e",
   "metadata": {},
   "source": [
    "## Introduction"
   ]
  },
  {
   "cell_type": "markdown",
   "id": "dd755ab8",
   "metadata": {},
   "source": [
    "<b>List of Data science languages:</b><br>\n",
    "Python<br>\n",
    "R<br>\n",
    "SQL<br>\n",
    "Julia<br>\n",
    "Scala<br>\n",
    "SAS<br>"
   ]
  },
  {
   "cell_type": "markdown",
   "id": "263e8819",
   "metadata": {},
   "source": [
    "<b>List of Data science Libraries:</b><br>\n",
    "TensorFlow<br>\n",
    "NumPy<br>\n",
    "SciPy <br>\n",
    "Pandas<br>\n",
    "Matplotlib <br>\n",
    "Keras<br>\n",
    "SciKit-Learn<br>\n",
    "PyTorch<br>\n",
    "Scrapy"
   ]
  },
  {
   "cell_type": "code",
   "execution_count": 25,
   "id": "9a58ec0f",
   "metadata": {},
   "outputs": [],
   "source": [
    "import pandas as pd\n"
   ]
  },
  {
   "cell_type": "code",
   "execution_count": 26,
   "id": "51497f7b",
   "metadata": {},
   "outputs": [
    {
     "data": {
      "text/html": [
       "<div>\n",
       "<style scoped>\n",
       "    .dataframe tbody tr th:only-of-type {\n",
       "        vertical-align: middle;\n",
       "    }\n",
       "\n",
       "    .dataframe tbody tr th {\n",
       "        vertical-align: top;\n",
       "    }\n",
       "\n",
       "    .dataframe thead th {\n",
       "        text-align: right;\n",
       "    }\n",
       "</style>\n",
       "<table border=\"1\" class=\"dataframe\">\n",
       "  <thead>\n",
       "    <tr style=\"text-align: right;\">\n",
       "      <th></th>\n",
       "      <th>first</th>\n",
       "      <th>second</th>\n",
       "      <th>third</th>\n",
       "    </tr>\n",
       "  </thead>\n",
       "  <tbody>\n",
       "    <tr>\n",
       "      <th>0</th>\n",
       "      <td>Tableau</td>\n",
       "      <td>SAS</td>\n",
       "      <td>Tensorflow</td>\n",
       "    </tr>\n",
       "    <tr>\n",
       "      <th>1</th>\n",
       "      <td>Spark</td>\n",
       "      <td>Excel</td>\n",
       "      <td>Knime</td>\n",
       "    </tr>\n",
       "  </tbody>\n",
       "</table>\n",
       "</div>"
      ],
      "text/plain": [
       "     first second       third\n",
       "0  Tableau    SAS  Tensorflow\n",
       "1    Spark  Excel       Knime"
      ]
     },
     "execution_count": 26,
     "metadata": {},
     "output_type": "execute_result"
    }
   ],
   "source": [
    "a = [[\"Tableau\",\"SAS\",\"Tensorflow\"],[\"Spark\",\"Excel\",\"Knime\"]]\n",
    "pd.DataFrame(a, columns=[\"first\",\"second\",\"third\"])"
   ]
  },
  {
   "cell_type": "markdown",
   "id": "9511c2dc",
   "metadata": {},
   "source": [
    "## arithmetic expression examples\n"
   ]
  },
  {
   "cell_type": "code",
   "execution_count": 27,
   "id": "f45a2ca8",
   "metadata": {},
   "outputs": [
    {
     "data": {
      "text/html": [
       "<div>\n",
       "<style scoped>\n",
       "    .dataframe tbody tr th:only-of-type {\n",
       "        vertical-align: middle;\n",
       "    }\n",
       "\n",
       "    .dataframe tbody tr th {\n",
       "        vertical-align: top;\n",
       "    }\n",
       "\n",
       "    .dataframe thead th {\n",
       "        text-align: right;\n",
       "    }\n",
       "</style>\n",
       "<table border=\"1\" class=\"dataframe\">\n",
       "  <thead>\n",
       "    <tr style=\"text-align: right;\">\n",
       "      <th></th>\n",
       "      <th>Syntax</th>\n",
       "      <th>Math</th>\n",
       "      <th>Operation Name</th>\n",
       "    </tr>\n",
       "  </thead>\n",
       "  <tbody>\n",
       "    <tr>\n",
       "      <th>0</th>\n",
       "      <td>a*b</td>\n",
       "      <td>a * b</td>\n",
       "      <td>multiplication</td>\n",
       "    </tr>\n",
       "    <tr>\n",
       "      <th>1</th>\n",
       "      <td>a/b</td>\n",
       "      <td>a\\div</td>\n",
       "      <td>division</td>\n",
       "    </tr>\n",
       "    <tr>\n",
       "      <th>2</th>\n",
       "      <td>a//b</td>\n",
       "      <td>a//b</td>\n",
       "      <td>floor division</td>\n",
       "    </tr>\n",
       "    <tr>\n",
       "      <th>3</th>\n",
       "      <td>a%b</td>\n",
       "      <td>a%b</td>\n",
       "      <td>modulo</td>\n",
       "    </tr>\n",
       "  </tbody>\n",
       "</table>\n",
       "</div>"
      ],
      "text/plain": [
       "  Syntax   Math  Operation Name\n",
       "0    a*b  a * b  multiplication\n",
       "1    a/b  a\\div        division\n",
       "2   a//b   a//b  floor division\n",
       "3    a%b    a%b          modulo"
      ]
     },
     "execution_count": 27,
     "metadata": {},
     "output_type": "execute_result"
    }
   ],
   "source": [
    "\n",
    "\n",
    "a = [[\"a*b\",\"a * b\",\"multiplication\"],[\"a/b\",\"a\\div\",\"division\"],[\"a//b\",\"a//b\",\"floor division\"],[\"a%b\",\"a%b\",\"modulo\"]]\n",
    "pd.DataFrame(a, columns=[\"Syntax\",\"Math\",\"Operation Name\"])\n"
   ]
  },
  {
   "cell_type": "code",
   "execution_count": 28,
   "id": "a97a5d52",
   "metadata": {},
   "outputs": [],
   "source": [
    "b =3\n",
    "c =4"
   ]
  },
  {
   "cell_type": "code",
   "execution_count": 29,
   "id": "ca7d1d63",
   "metadata": {},
   "outputs": [
    {
     "data": {
      "text/plain": [
       "7"
      ]
     },
     "execution_count": 29,
     "metadata": {},
     "output_type": "execute_result"
    }
   ],
   "source": [
    "# addition\n",
    "b+c"
   ]
  },
  {
   "cell_type": "code",
   "execution_count": 30,
   "id": "8c0768f5",
   "metadata": {},
   "outputs": [
    {
     "data": {
      "text/plain": [
       "-1"
      ]
     },
     "execution_count": 30,
     "metadata": {},
     "output_type": "execute_result"
    }
   ],
   "source": [
    "#subtraction\n",
    "b-c"
   ]
  },
  {
   "cell_type": "code",
   "execution_count": 31,
   "id": "ed2fb61b",
   "metadata": {},
   "outputs": [
    {
     "data": {
      "text/plain": [
       "12"
      ]
     },
     "execution_count": 31,
     "metadata": {},
     "output_type": "execute_result"
    }
   ],
   "source": [
    "# multiplication\n",
    "b*c"
   ]
  },
  {
   "cell_type": "code",
   "execution_count": 32,
   "id": "bda53589",
   "metadata": {},
   "outputs": [
    {
     "data": {
      "text/plain": [
       "0.75"
      ]
     },
     "execution_count": 32,
     "metadata": {},
     "output_type": "execute_result"
    }
   ],
   "source": [
    "# division\n",
    "b/c"
   ]
  },
  {
   "cell_type": "code",
   "execution_count": 33,
   "id": "09773cfc",
   "metadata": {},
   "outputs": [
    {
     "data": {
      "text/plain": [
       "3"
      ]
     },
     "execution_count": 33,
     "metadata": {},
     "output_type": "execute_result"
    }
   ],
   "source": [
    "# modulo\n",
    "b%c"
   ]
  },
  {
   "cell_type": "markdown",
   "id": "4326419f",
   "metadata": {},
   "source": [
    "## code cell to convert minutes to hour"
   ]
  },
  {
   "cell_type": "code",
   "execution_count": 34,
   "id": "e530717b",
   "metadata": {},
   "outputs": [
    {
     "name": "stdout",
     "output_type": "stream",
     "text": [
      "Enter time in minutes55\n",
      "Hours= 0\n",
      "Minutes= 55\n"
     ]
    }
   ],
   "source": [
    "min=int(input(\"Enter time in minutes\"))\n",
    "h=min//60\n",
    "m=min%60\n",
    "print(\"Hours=\",h)\n",
    "print(\"Minutes=\",m)"
   ]
  },
  {
   "cell_type": "markdown",
   "id": "3c8022d7",
   "metadata": {},
   "source": [
    "<b>List of Objects:</b><br>\n",
    "PyTypeObject<br>\n",
    "PyList_Check<br>\n",
    "PyList_CheckLast <br>\n",
    "PyList_SetItem<br>"
   ]
  },
  {
   "cell_type": "markdown",
   "id": "d9f7747c",
   "metadata": {},
   "source": [
    "## Author Name : <b> Dhandu Niranjan</b>"
   ]
  }
 ],
 "metadata": {
  "kernelspec": {
   "display_name": "Python 3 (ipykernel)",
   "language": "python",
   "name": "python3"
  },
  "language_info": {
   "codemirror_mode": {
    "name": "ipython",
    "version": 3
   },
   "file_extension": ".py",
   "mimetype": "text/x-python",
   "name": "python",
   "nbconvert_exporter": "python",
   "pygments_lexer": "ipython3",
   "version": "3.10.9"
  }
 },
 "nbformat": 4,
 "nbformat_minor": 5
}
